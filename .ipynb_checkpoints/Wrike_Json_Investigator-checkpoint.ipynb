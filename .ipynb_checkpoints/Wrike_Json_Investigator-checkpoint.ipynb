{
 "cells": [
  {
   "cell_type": "code",
   "execution_count": 2,
   "metadata": {},
   "outputs": [],
   "source": [
    "import pandas\n",
    "import wrike_credentials as w_creds"
   ]
  },
  {
   "cell_type": "code",
   "execution_count": 4,
   "metadata": {},
   "outputs": [
    {
     "name": "stdout",
     "output_type": "stream",
     "text": [
      "PP1sS81B\n",
      "OkWea2umzOwTAnBJzn9PgD3IJRZjPcVGP3oZAWOhdoupWXknY2fGHb9jWWJmrPKo\n"
     ]
    }
   ],
   "source": [
    "print(w_creds.client_id)\n",
    "print(w_creds.client_secret)"
   ]
  },
  {
   "cell_type": "code",
   "execution_count": 27,
   "metadata": {},
   "outputs": [
    {
     "name": "stdout",
     "output_type": "stream",
     "text": [
      "https://www.wrike.com/oauth2/authorize/v4?client_id=PP1sS81B&response_type=code\n"
     ]
    }
   ],
   "source": [
    "import requests\n",
    "\n",
    "url = \"https://www.wrike.com/oauth2/authorize/v4?client_id=\"+w_creds.client_id+\"&response_type=code\"\n",
    "\n",
    "print(url)"
   ]
  },
  {
   "cell_type": "code",
   "execution_count": null,
   "metadata": {},
   "outputs": [],
   "source": [
    "POST https://www.wrike.com/oauth2/token\n",
    "#Parameters:\n",
    "client_id= w_creds.client_id\n",
    "client_secret= w_creds.client_secret\n",
    "grant_type=authorization_code\n",
    "code=Vs3L6akvYi2SZlvaG3UYYT00XiYcisS1CE6x0V08Q8I0iviF4oILhlgONO8CDirX-N"
   ]
  },
  {
   "cell_type": "code",
   "execution_count": 28,
   "metadata": {},
   "outputs": [
    {
     "name": "stdout",
     "output_type": "stream",
     "text": [
      "<Response [200]>\n"
     ]
    }
   ],
   "source": [
    "resp = requests.get(url)\n",
    "print(resp)"
   ]
  },
  {
   "cell_type": "code",
   "execution_count": 36,
   "metadata": {},
   "outputs": [
    {
     "ename": "SyntaxError",
     "evalue": "invalid syntax (<ipython-input-36-a82f79e6d046>, line 1)",
     "output_type": "error",
     "traceback": [
      "\u001b[0;36m  File \u001b[0;32m\"<ipython-input-36-a82f79e6d046>\"\u001b[0;36m, line \u001b[0;32m1\u001b[0m\n\u001b[0;31m    curl -X POST -d \"client_id=&client_secret=OkWea2umzOwTAnBJzn9PgD3IJRZjPcVGP3oZAWOhdoupWXknY2fGHb9jWWJmrPKo&grant_type=authorization_code&code=NckN8ylklL2cYQMuTOjXMKGm1oCs24Zt14eNBg98iK7iP6eEitR14ORAlkKHO0pw-N\" https://www.wrike.com/oauth2/token\u001b[0m\n\u001b[0m               ^\u001b[0m\n\u001b[0;31mSyntaxError\u001b[0m\u001b[0;31m:\u001b[0m invalid syntax\n"
     ]
    }
   ],
   "source": [
    "curl -X POST -d \"client_id=PP1sS81B&client_secret=OkWea2umzOwTAnBJzn9PgD3IJRZjPcVGP3oZAWOhdoupWXknY2fGHb9jWWJmrPKo&grant_type=authorization_code&code=RPtEzzPiC8wKyefCfqRyodq9iB4KFbRizwtD1KbnCzfFfpSlQHbYrFDpnPBbKMMY-N\" https://www.wrike.com/oauth2/token"
   ]
  },
  {
   "cell_type": "code",
   "execution_count": null,
   "metadata": {},
   "outputs": [],
   "source": []
  }
 ],
 "metadata": {
  "kernelspec": {
   "display_name": "Python 3",
   "language": "python",
   "name": "python3"
  },
  "language_info": {
   "codemirror_mode": {
    "name": "ipython",
    "version": 3
   },
   "file_extension": ".py",
   "mimetype": "text/x-python",
   "name": "python",
   "nbconvert_exporter": "python",
   "pygments_lexer": "ipython3",
   "version": "3.7.3"
  }
 },
 "nbformat": 4,
 "nbformat_minor": 2
}
